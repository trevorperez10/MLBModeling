{
  "nbformat": 4,
  "nbformat_minor": 0,
  "metadata": {
    "colab": {
      "name": "mlb.ipynb",
      "provenance": [],
      "collapsed_sections": []
    },
    "kernelspec": {
      "name": "python3",
      "display_name": "Python 3"
    },
    "language_info": {
      "name": "python"
    }
  },
  "cells": [
    {
      "cell_type": "code",
      "source": [
        "from google.colab import files\n",
        " \n",
        " \n",
        "uploaded = files.upload()"
      ],
      "metadata": {
        "colab": {
          "resources": {
            "http://localhost:8080/nbextensions/google.colab/files.js": {
              "data": "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",
              "ok": true,
              "headers": [
                [
                  "content-type",
                  "application/javascript"
                ]
              ],
              "status": 200,
              "status_text": ""
            }
          },
          "base_uri": "https://localhost:8080/",
          "height": 179
        },
        "id": "8VdBX8SmXQPr",
        "outputId": "54141dd6-3722-435e-ae63-00951bf77f93"
      },
      "execution_count": null,
      "outputs": [
        {
          "output_type": "display_data",
          "data": {
            "text/plain": [
              "<IPython.core.display.HTML object>"
            ],
            "text/html": [
              "\n",
              "     <input type=\"file\" id=\"files-6658bdaf-3ebd-4d3b-bacd-fe5894875df4\" name=\"files[]\" multiple disabled\n",
              "        style=\"border:none\" />\n",
              "     <output id=\"result-6658bdaf-3ebd-4d3b-bacd-fe5894875df4\">\n",
              "      Upload widget is only available when the cell has been executed in the\n",
              "      current browser session. Please rerun this cell to enable.\n",
              "      </output>\n",
              "      <script src=\"/nbextensions/google.colab/files.js\"></script> "
            ]
          },
          "metadata": {}
        },
        {
          "output_type": "stream",
          "name": "stdout",
          "text": [
            "Saving mlb batting - 2021.csv to mlb batting - 2021.csv\n",
            "Saving mlb batting - 2022.csv to mlb batting - 2022.csv\n",
            "Saving mlb pitching - 2022.csv to mlb pitching - 2022.csv\n",
            "Saving mlb pitching - 2021.csv to mlb pitching - 2021.csv\n"
          ]
        }
      ]
    },
    {
      "cell_type": "code",
      "execution_count": null,
      "metadata": {
        "colab": {
          "base_uri": "https://localhost:8080/"
        },
        "id": "1K2P0zBFPgYF",
        "outputId": "a9f1c398-51df-48db-84fd-abb97c0ed34e"
      },
      "outputs": [
        {
          "output_type": "stream",
          "name": "stdout",
          "text": [
            "Index(['Team', 'ISO', 'BABIP', 'AVG', 'wRC+', 'WAR'], dtype='object')\n",
            "Index(['Team', 'ERA', 'WAR', 'K/9', 'xFIP', 'PCT'], dtype='object')\n",
            "0     0.574074\n",
            "1     0.654321\n",
            "2     0.586420\n",
            "3     0.567901\n",
            "4     0.660494\n",
            "5     0.567901\n",
            "6     0.617284\n",
            "7     0.506173\n",
            "8     0.586420\n",
            "9     0.475309\n",
            "10    0.512346\n",
            "11    0.546584\n",
            "12    0.475309\n",
            "13    0.530864\n",
            "14    0.413580\n",
            "15    0.561728\n",
            "16    0.555556\n",
            "17    0.459627\n",
            "18    0.487654\n",
            "19    0.456790\n",
            "20    0.555556\n",
            "21    0.493827\n",
            "22    0.475309\n",
            "23    0.450617\n",
            "24    0.320988\n",
            "25    0.401235\n",
            "26    0.376543\n",
            "27    0.438272\n",
            "28    0.370370\n",
            "29    0.320988\n",
            "Name: PCT, dtype: float64\n"
          ]
        }
      ],
      "source": [
        "import pandas as pd\n",
        "import requests\n",
        "from requests import Request, Session\n",
        "from requests.exceptions import ConnectionError, Timeout, TooManyRedirects\n",
        "import json\n",
        "import numpy as np\n",
        "from urllib.request import urlopen\n",
        "from bs4 import BeautifulSoup\n",
        "\n",
        "batting = pd.read_csv(\"mlb batting - 2021.csv\")\n",
        "pitching = pd.read_csv(\"mlb pitching - 2021.csv\")\n",
        "batting = batting[[\"Team\", \"ISO\", \"BABIP\", \"AVG\", \"wRC+\", \"WAR\"]]\n",
        "pitching = pitching[[\"Team\", \"W\", \"L\", \"ERA\", \"WAR\", \"K/9\", \"xFIP\"]]\n",
        "pitching[\"PCT\"] = pitching[\"W\"] / ( pitching [\"L\"] + pitching [\"W\"])\n",
        "pitching = pitching.drop([\"W\", \"L\"], axis = 1)\n",
        "print(batting.columns)\n",
        "print(pitching.columns)\n",
        "print(pitching[\"PCT\"])\n"
      ]
    },
    {
      "cell_type": "code",
      "source": [
        "all_data = pd.merge(left=batting, right=pitching, left_on='Team', right_on='Team')\n",
        "#y = pitching, x = batting\n",
        "print(all_data.head())\n",
        "print(all_data.shape)"
      ],
      "metadata": {
        "colab": {
          "base_uri": "https://localhost:8080/"
        },
        "id": "BIsIejH1XcqA",
        "outputId": "483d8291-11fc-48fa-8333-0735358d97f4"
      },
      "execution_count": null,
      "outputs": [
        {
          "output_type": "stream",
          "name": "stdout",
          "text": [
            "  Team    ISO  BABIP    AVG  wRC+  WAR_x   ERA  WAR_y   K/9  xFIP       PCT\n",
            "0  HOU  0.177  0.303  0.267   116   35.2  3.80   16.9  9.07  4.12  0.586420\n",
            "1  TBR  0.186  0.294  0.243   109   31.7  3.67   18.7  9.14  3.97  0.617284\n",
            "2  SFG  0.191  0.295  0.249   108   31.7  3.25   21.9  8.81  3.87  0.660494\n",
            "3  LAD  0.185  0.284  0.244   106   29.5  3.03   26.9  9.91  3.75  0.654321\n",
            "4  TOR  0.200  0.296  0.266   112   29.3  3.91   14.6  9.40  4.06  0.561728\n",
            "(30, 11)\n"
          ]
        }
      ]
    },
    {
      "cell_type": "code",
      "source": [
        "all_data.describe().transpose()\n"
      ],
      "metadata": {
        "colab": {
          "base_uri": "https://localhost:8080/",
          "height": 363
        },
        "id": "HanDE1w7e_M0",
        "outputId": "308dbfb7-4ef5-402a-b5f8-41cc105eaa68"
      },
      "execution_count": null,
      "outputs": [
        {
          "output_type": "execute_result",
          "data": {
            "text/plain": [
              "       count       mean       std        min       25%      50%         75%  \\\n",
              "ISO     30.0   0.166800  0.016841   0.128000   0.15900   0.1670    0.180750   \n",
              "BABIP   30.0   0.291600  0.009027   0.273000   0.28525   0.2915    0.296000   \n",
              "AVG     30.0   0.243767  0.009884   0.226000   0.23725   0.2420    0.249000   \n",
              "wRC+    30.0  96.800000  9.121403  82.000000  91.25000  96.5000  101.750000   \n",
              "WAR_x   30.0  18.986667  7.567979   6.300000  12.55000  18.3000   23.600000   \n",
              "ERA     30.0   4.270667  0.611386   3.030000   3.89250   4.2850    4.772500   \n",
              "WAR_y   30.0  14.323333  6.347287   4.000000  10.20000  14.8500   17.650000   \n",
              "K/9     30.0   8.898667  0.713852   7.780000   8.35500   8.8500    9.460000   \n",
              "xFIP    30.0   4.266667  0.317754   3.750000   4.03000   4.2350    4.507500   \n",
              "PCT     30.0   0.500001  0.089326   0.320988   0.45216   0.5000    0.566358   \n",
              "\n",
              "              max  \n",
              "ISO      0.200000  \n",
              "BABIP    0.310000  \n",
              "AVG      0.267000  \n",
              "wRC+   116.000000  \n",
              "WAR_x   35.200000  \n",
              "ERA      5.850000  \n",
              "WAR_y   27.100000  \n",
              "K/9     10.180000  \n",
              "xFIP     4.910000  \n",
              "PCT      0.660494  "
            ],
            "text/html": [
              "\n",
              "  <div id=\"df-14850df9-e49b-41ee-a53e-cf62dece2b38\">\n",
              "    <div class=\"colab-df-container\">\n",
              "      <div>\n",
              "<style scoped>\n",
              "    .dataframe tbody tr th:only-of-type {\n",
              "        vertical-align: middle;\n",
              "    }\n",
              "\n",
              "    .dataframe tbody tr th {\n",
              "        vertical-align: top;\n",
              "    }\n",
              "\n",
              "    .dataframe thead th {\n",
              "        text-align: right;\n",
              "    }\n",
              "</style>\n",
              "<table border=\"1\" class=\"dataframe\">\n",
              "  <thead>\n",
              "    <tr style=\"text-align: right;\">\n",
              "      <th></th>\n",
              "      <th>count</th>\n",
              "      <th>mean</th>\n",
              "      <th>std</th>\n",
              "      <th>min</th>\n",
              "      <th>25%</th>\n",
              "      <th>50%</th>\n",
              "      <th>75%</th>\n",
              "      <th>max</th>\n",
              "    </tr>\n",
              "  </thead>\n",
              "  <tbody>\n",
              "    <tr>\n",
              "      <th>ISO</th>\n",
              "      <td>30.0</td>\n",
              "      <td>0.166800</td>\n",
              "      <td>0.016841</td>\n",
              "      <td>0.128000</td>\n",
              "      <td>0.15900</td>\n",
              "      <td>0.1670</td>\n",
              "      <td>0.180750</td>\n",
              "      <td>0.200000</td>\n",
              "    </tr>\n",
              "    <tr>\n",
              "      <th>BABIP</th>\n",
              "      <td>30.0</td>\n",
              "      <td>0.291600</td>\n",
              "      <td>0.009027</td>\n",
              "      <td>0.273000</td>\n",
              "      <td>0.28525</td>\n",
              "      <td>0.2915</td>\n",
              "      <td>0.296000</td>\n",
              "      <td>0.310000</td>\n",
              "    </tr>\n",
              "    <tr>\n",
              "      <th>AVG</th>\n",
              "      <td>30.0</td>\n",
              "      <td>0.243767</td>\n",
              "      <td>0.009884</td>\n",
              "      <td>0.226000</td>\n",
              "      <td>0.23725</td>\n",
              "      <td>0.2420</td>\n",
              "      <td>0.249000</td>\n",
              "      <td>0.267000</td>\n",
              "    </tr>\n",
              "    <tr>\n",
              "      <th>wRC+</th>\n",
              "      <td>30.0</td>\n",
              "      <td>96.800000</td>\n",
              "      <td>9.121403</td>\n",
              "      <td>82.000000</td>\n",
              "      <td>91.25000</td>\n",
              "      <td>96.5000</td>\n",
              "      <td>101.750000</td>\n",
              "      <td>116.000000</td>\n",
              "    </tr>\n",
              "    <tr>\n",
              "      <th>WAR_x</th>\n",
              "      <td>30.0</td>\n",
              "      <td>18.986667</td>\n",
              "      <td>7.567979</td>\n",
              "      <td>6.300000</td>\n",
              "      <td>12.55000</td>\n",
              "      <td>18.3000</td>\n",
              "      <td>23.600000</td>\n",
              "      <td>35.200000</td>\n",
              "    </tr>\n",
              "    <tr>\n",
              "      <th>ERA</th>\n",
              "      <td>30.0</td>\n",
              "      <td>4.270667</td>\n",
              "      <td>0.611386</td>\n",
              "      <td>3.030000</td>\n",
              "      <td>3.89250</td>\n",
              "      <td>4.2850</td>\n",
              "      <td>4.772500</td>\n",
              "      <td>5.850000</td>\n",
              "    </tr>\n",
              "    <tr>\n",
              "      <th>WAR_y</th>\n",
              "      <td>30.0</td>\n",
              "      <td>14.323333</td>\n",
              "      <td>6.347287</td>\n",
              "      <td>4.000000</td>\n",
              "      <td>10.20000</td>\n",
              "      <td>14.8500</td>\n",
              "      <td>17.650000</td>\n",
              "      <td>27.100000</td>\n",
              "    </tr>\n",
              "    <tr>\n",
              "      <th>K/9</th>\n",
              "      <td>30.0</td>\n",
              "      <td>8.898667</td>\n",
              "      <td>0.713852</td>\n",
              "      <td>7.780000</td>\n",
              "      <td>8.35500</td>\n",
              "      <td>8.8500</td>\n",
              "      <td>9.460000</td>\n",
              "      <td>10.180000</td>\n",
              "    </tr>\n",
              "    <tr>\n",
              "      <th>xFIP</th>\n",
              "      <td>30.0</td>\n",
              "      <td>4.266667</td>\n",
              "      <td>0.317754</td>\n",
              "      <td>3.750000</td>\n",
              "      <td>4.03000</td>\n",
              "      <td>4.2350</td>\n",
              "      <td>4.507500</td>\n",
              "      <td>4.910000</td>\n",
              "    </tr>\n",
              "    <tr>\n",
              "      <th>PCT</th>\n",
              "      <td>30.0</td>\n",
              "      <td>0.500001</td>\n",
              "      <td>0.089326</td>\n",
              "      <td>0.320988</td>\n",
              "      <td>0.45216</td>\n",
              "      <td>0.5000</td>\n",
              "      <td>0.566358</td>\n",
              "      <td>0.660494</td>\n",
              "    </tr>\n",
              "  </tbody>\n",
              "</table>\n",
              "</div>\n",
              "      <button class=\"colab-df-convert\" onclick=\"convertToInteractive('df-14850df9-e49b-41ee-a53e-cf62dece2b38')\"\n",
              "              title=\"Convert this dataframe to an interactive table.\"\n",
              "              style=\"display:none;\">\n",
              "        \n",
              "  <svg xmlns=\"http://www.w3.org/2000/svg\" height=\"24px\"viewBox=\"0 0 24 24\"\n",
              "       width=\"24px\">\n",
              "    <path d=\"M0 0h24v24H0V0z\" fill=\"none\"/>\n",
              "    <path d=\"M18.56 5.44l.94 2.06.94-2.06 2.06-.94-2.06-.94-.94-2.06-.94 2.06-2.06.94zm-11 1L8.5 8.5l.94-2.06 2.06-.94-2.06-.94L8.5 2.5l-.94 2.06-2.06.94zm10 10l.94 2.06.94-2.06 2.06-.94-2.06-.94-.94-2.06-.94 2.06-2.06.94z\"/><path d=\"M17.41 7.96l-1.37-1.37c-.4-.4-.92-.59-1.43-.59-.52 0-1.04.2-1.43.59L10.3 9.45l-7.72 7.72c-.78.78-.78 2.05 0 2.83L4 21.41c.39.39.9.59 1.41.59.51 0 1.02-.2 1.41-.59l7.78-7.78 2.81-2.81c.8-.78.8-2.07 0-2.86zM5.41 20L4 18.59l7.72-7.72 1.47 1.35L5.41 20z\"/>\n",
              "  </svg>\n",
              "      </button>\n",
              "      \n",
              "  <style>\n",
              "    .colab-df-container {\n",
              "      display:flex;\n",
              "      flex-wrap:wrap;\n",
              "      gap: 12px;\n",
              "    }\n",
              "\n",
              "    .colab-df-convert {\n",
              "      background-color: #E8F0FE;\n",
              "      border: none;\n",
              "      border-radius: 50%;\n",
              "      cursor: pointer;\n",
              "      display: none;\n",
              "      fill: #1967D2;\n",
              "      height: 32px;\n",
              "      padding: 0 0 0 0;\n",
              "      width: 32px;\n",
              "    }\n",
              "\n",
              "    .colab-df-convert:hover {\n",
              "      background-color: #E2EBFA;\n",
              "      box-shadow: 0px 1px 2px rgba(60, 64, 67, 0.3), 0px 1px 3px 1px rgba(60, 64, 67, 0.15);\n",
              "      fill: #174EA6;\n",
              "    }\n",
              "\n",
              "    [theme=dark] .colab-df-convert {\n",
              "      background-color: #3B4455;\n",
              "      fill: #D2E3FC;\n",
              "    }\n",
              "\n",
              "    [theme=dark] .colab-df-convert:hover {\n",
              "      background-color: #434B5C;\n",
              "      box-shadow: 0px 1px 3px 1px rgba(0, 0, 0, 0.15);\n",
              "      filter: drop-shadow(0px 1px 2px rgba(0, 0, 0, 0.3));\n",
              "      fill: #FFFFFF;\n",
              "    }\n",
              "  </style>\n",
              "\n",
              "      <script>\n",
              "        const buttonEl =\n",
              "          document.querySelector('#df-14850df9-e49b-41ee-a53e-cf62dece2b38 button.colab-df-convert');\n",
              "        buttonEl.style.display =\n",
              "          google.colab.kernel.accessAllowed ? 'block' : 'none';\n",
              "\n",
              "        async function convertToInteractive(key) {\n",
              "          const element = document.querySelector('#df-14850df9-e49b-41ee-a53e-cf62dece2b38');\n",
              "          const dataTable =\n",
              "            await google.colab.kernel.invokeFunction('convertToInteractive',\n",
              "                                                     [key], {});\n",
              "          if (!dataTable) return;\n",
              "\n",
              "          const docLinkHtml = 'Like what you see? Visit the ' +\n",
              "            '<a target=\"_blank\" href=https://colab.research.google.com/notebooks/data_table.ipynb>data table notebook</a>'\n",
              "            + ' to learn more about interactive tables.';\n",
              "          element.innerHTML = '';\n",
              "          dataTable['output_type'] = 'display_data';\n",
              "          await google.colab.output.renderOutput(dataTable, element);\n",
              "          const docLink = document.createElement('div');\n",
              "          docLink.innerHTML = docLinkHtml;\n",
              "          element.appendChild(docLink);\n",
              "        }\n",
              "      </script>\n",
              "    </div>\n",
              "  </div>\n",
              "  "
            ]
          },
          "metadata": {},
          "execution_count": 8
        }
      ]
    },
    {
      "cell_type": "code",
      "source": [
        "from sklearn.model_selection import train_test_split\n",
        "x = np.array(all_data.drop([\"PCT\", \"Team\"],  axis=1))\n",
        "y = np.array(all_data[\"PCT\"])\n",
        "x_train, x_test, y_train, y_test = train_test_split(x, y, test_size=0.15, random_state=5)\n",
        "\n"
      ],
      "metadata": {
        "id": "dqwIyHxpdfs0"
      },
      "execution_count": null,
      "outputs": []
    },
    {
      "cell_type": "code",
      "source": [
        "def min_max_scale(X_in, min_scale_by=None, max_scale_by=None):\n",
        "    ''' Computes the min-max scaled transformation of X_in\n",
        "        * if min_scale_by or max_scale_by is None: compute the min and max based on X_in, then scale X_in\n",
        "        * if min_scale_by and max_scale_by are proveded: use those to scale X_in. '''\n",
        "    \n",
        "    # only return scale parameters if they are computed on X_in\n",
        "    return_scale_parameters = (min_scale_by is None) or (max_scale_by is None)\n",
        "    \n",
        "    x, y = X_in.shape\n",
        "    # compute min if not provided\n",
        "    if min_scale_by is None:\n",
        "        min_scale_by = []\n",
        "        for i in range(y):\n",
        "            minimum = np.min(X_in[:, i])\n",
        "            min_scale_by.append(minimum)\n",
        "        min_scale_by = np.array(min_scale_by)\n",
        "        \n",
        "    #compute max if not provided\n",
        "    if max_scale_by is None:\n",
        "        max_scale_by = []\n",
        "        for i in range(y):\n",
        "            maximum = np.max(X_in[:, i])\n",
        "            max_scale_by.append(maximum)\n",
        "        max_scale_by = np.array(max_scale_by)\n",
        "    \n",
        "    print(min_scale_by.shape)\n",
        "    print(X_in.shape)\n",
        "    \n",
        "    X_scaled = []\n",
        "    for i in X_in:\n",
        "        scaled = (i-min_scale_by)/(max_scale_by-min_scale_by)\n",
        "        X_scaled.append(scaled)\n",
        "    X_scaled = np.array(X_scaled)\n",
        "    \n",
        "    assert isinstance(max_scale_by, np.ndarray), 'Compute the maximum for each feature dimension.'\n",
        "    assert isinstance(min_scale_by, np.ndarray), 'Compute the minimum for each feature dimension.'\n",
        "    assert X_scaled.shape == X_in.shape, 'The shape of the array X should not change'\n",
        "\n",
        "    if return_scale_parameters:\n",
        "        return X_scaled, min_scale_by, max_scale_by\n",
        "    else: \n",
        "        return X_scaled"
      ],
      "metadata": {
        "id": "8hX7UM3qlNCm"
      },
      "execution_count": null,
      "outputs": []
    },
    {
      "cell_type": "code",
      "source": [
        "import matplotlib.pyplot as plt\n",
        "\n",
        "x_train_scaled, min_scale_by, max_scale_by = min_max_scale(x_train)\n",
        "x_test_scaled = min_max_scale(x_test, min_scale_by, max_scale_by)\n",
        "\n",
        "plt.boxplot(x_train_scaled)\n",
        "plt.xlabel('Features')\n",
        "plt.ylabel('Values')"
      ],
      "metadata": {
        "colab": {
          "base_uri": "https://localhost:8080/",
          "height": 368
        },
        "id": "VJMSqPaBlTkk",
        "outputId": "4f586c62-1afc-4353-fafb-d82dcdbcfe91"
      },
      "execution_count": null,
      "outputs": [
        {
          "output_type": "stream",
          "name": "stdout",
          "text": [
            "(9,)\n",
            "(25, 9)\n",
            "(9,)\n",
            "(5, 9)\n"
          ]
        },
        {
          "output_type": "execute_result",
          "data": {
            "text/plain": [
              "Text(0, 0.5, 'Values')"
            ]
          },
          "metadata": {},
          "execution_count": 11
        },
        {
          "output_type": "display_data",
          "data": {
            "text/plain": [
              "<Figure size 432x288 with 1 Axes>"
            ],
            "image/png": "[encoded data removed]"
          },
          "metadata": {
            "needs_background": "light"
          }
        }
      ]
    },
    {
      "cell_type": "code",
      "source": [
        "from sklearn.neighbors import KNeighborsRegressor\n",
        "from sklearn.metrics import r2_score\n",
        "from sklearn.model_selection import KFold\n",
        "def knn_kfolds(X, y, n_folds, n_neighbors, random_state=None):\n",
        "    \n",
        "    kf = KFold(n_splits = n_folds, shuffle = True, random_state = random_state)\n",
        "    \n",
        "    r_squared_sum = 0\n",
        "    for fold, (train_idx, test_idx) in enumerate(kf.split(X)):\n",
        "        X_train = X[train_idx]\n",
        "        y_train = y[train_idx]\n",
        "        X_test = X[test_idx]\n",
        "        y_test = y[test_idx]\n",
        "        \n",
        "        model = KNeighborsRegressor(n_neighbors)\n",
        "        model.fit(X_train, y_train)\n",
        "        y_hat = model.predict(X_test)\n",
        "        r_squared = r2_score(y_test, y_hat)\n",
        "        r_squared_sum += r_squared\n",
        "        \n",
        "    avg_score = r_squared_sum / n_folds\n",
        "    return avg_score"
      ],
      "metadata": {
        "id": "R2qjYJnsnQtm"
      },
      "execution_count": null,
      "outputs": []
    },
    {
      "cell_type": "code",
      "source": [
        "%matplotlib inline\n",
        "allk = np.arange(1, 10)\n",
        "r_squareds = []\n",
        "\n",
        "for k in allk:\n",
        "    r_squareds.append(knn_kfolds(x_train, y_train, 4, k, random_state = 3))\n",
        "    \n",
        "\n",
        "plt.plot(allk, r_squareds)\n",
        "plt.xticks(allk)\n",
        "plt.xlabel('K Clusters')\n",
        "plt.ylabel('R Squareds')\n",
        "plt.title(\"12-Fold Cross Validation Average R Squareds\")\n",
        "\n",
        "rsqmean = np.mean(r_squareds)\n",
        "print(rsqmean)"
      ],
      "metadata": {
        "colab": {
          "base_uri": "https://localhost:8080/",
          "height": 313
        },
        "id": "ymoELhqpnvfj",
        "outputId": "88de337d-634b-4dfe-ff2d-ef6f3785b78c"
      },
      "execution_count": null,
      "outputs": [
        {
          "output_type": "stream",
          "name": "stdout",
          "text": [
            "0.6126298734071061\n"
          ]
        },
        {
          "output_type": "display_data",
          "data": {
            "text/plain": [
              "<Figure size 432x288 with 1 Axes>"
            ],
            "image/png": "[encoded data removed]"
          },
          "metadata": {
            "needs_background": "light"
          }
        }
      ]
    },
    {
      "cell_type": "code",
      "source": [
        "from sklearn.linear_model import LinearRegression\n",
        "model = LinearRegression()\n",
        "model.fit(x_train,y_train)\n",
        "y_pred = model.predict(x_test)\n",
        "\n",
        "RSquaredlinreg = r2_score(y_test,y_pred)\n",
        "\n",
        "print(RSquaredlinreg)\n",
        "plt.scatter(y_test, y_pred, marker = 'o')\n",
        "plt.scatter(y_train, model.predict(x_train), marker = '+', alpha = 0.5)\n",
        "plt.xlabel(\"Actual win pct\")\n",
        "plt.ylabel(\"Predicted Win pct\")\n",
        "plt.title(\"Actual vs. Predicted Win Rate\")\n"
      ],
      "metadata": {
        "colab": {
          "base_uri": "https://localhost:8080/",
          "height": 331
        },
        "id": "-VVSfKb8qDLa",
        "outputId": "def290b4-da70-4908-98f0-55e0db22e057"
      },
      "execution_count": null,
      "outputs": [
        {
          "output_type": "stream",
          "name": "stdout",
          "text": [
            "0.5607022168441682\n"
          ]
        },
        {
          "output_type": "execute_result",
          "data": {
            "text/plain": [
              "Text(0.5, 1.0, 'Actual vs. Predicted Win Rate')"
            ]
          },
          "metadata": {},
          "execution_count": 14
        },
        {
          "output_type": "display_data",
          "data": {
            "text/plain": [
              "<Figure size 432x288 with 1 Axes>"
            ],
            "image/png": "[encoded data removed]"
          },
          "metadata": {
            "needs_background": "light"
          }
        }
      ]
    },
    {
      "cell_type": "code",
      "source": [
        "batting2022 = pd.read_csv(\"mlb batting - 2022.csv\")\n",
        "pitching2022 = pd.read_csv(\"mlb pitching - 2022.csv\")\n",
        "batting2022 = batting2022[[\"Team\", \"ISO\", \"BABIP\", \"AVG\", \"wRC+\", \"WAR\"]]\n",
        "pitching2022 = pitching2022[[\"Team\", \"W\", \"L\", \"ERA\", \"WAR\", \"K/9\", \"xFIP\"]]\n",
        "pitching2022[\"PCT\"] = pitching2022[\"W\"] / ( pitching2022 [\"L\"] + pitching2022 [\"W\"])\n",
        "pitching2022 = pitching2022.drop([\"W\", \"L\"], axis = 1)"
      ],
      "metadata": {
        "id": "FNkyxQ_22qy4"
      },
      "execution_count": null,
      "outputs": []
    },
    {
      "cell_type": "code",
      "source": [
        "all_data_2022 = pd.merge(left=batting2022, right=pitching2022, left_on='Team', right_on='Team')\n",
        "teams = np.array(all_data[\"Team\"])\n",
        "x = np.array(all_data.drop([\"PCT\", \"Team\"],  axis=1))\n",
        "forecast = model.predict(x)\n",
        "print(forecast)\n",
        "print(teams)\n"
      ],
      "metadata": {
        "colab": {
          "base_uri": "https://localhost:8080/"
        },
        "id": "Z4JKH0OU20oz",
        "outputId": "a6ac1deb-1475-47b3-ed5c-0f2b8b20aa12"
      },
      "execution_count": null,
      "outputs": [
        {
          "output_type": "stream",
          "name": "stdout",
          "text": [
            "[0.57153162 0.59770245 0.63889403 0.672539   0.57242988 0.54294024\n",
            " 0.59140925 0.56263665 0.55695349 0.54973119 0.49048491 0.47350471\n",
            " 0.48257381 0.40953356 0.5021067  0.55978001 0.51692019 0.5817103\n",
            " 0.47054395 0.40527767 0.43912977 0.44872592 0.37760391 0.46739741\n",
            " 0.51972828 0.43331647 0.36716079 0.46769797 0.33743166 0.40810491]\n",
            "['HOU' 'TBR' 'SFG' 'LAD' 'TOR' 'STL' 'CHW' 'ATL' 'OAK' 'BOS' 'NYM' 'SDP'\n",
            " 'MIN' 'WSN' 'PHI' 'MIL' 'CIN' 'NYY' 'CLE' 'CHC' 'KCR' 'MIA' 'TEX' 'LAA'\n",
            " 'SEA' 'COL' 'ARI' 'DET' 'PIT' 'BAL']\n"
          ]
        }
      ]
    },
    {
      "cell_type": "code",
      "source": [
        "team_forecast = {}\n",
        "for i in range(len(teams)):\n",
        "  team_forecast[teams[i]] = forecast[i]\n",
        "print(team_forecast)"
      ],
      "metadata": {
        "colab": {
          "base_uri": "https://localhost:8080/"
        },
        "id": "NUvlQAAv3ynp",
        "outputId": "5744f451-9d13-4e4c-b2f5-c1a8cf9dd7db"
      },
      "execution_count": null,
      "outputs": [
        {
          "output_type": "stream",
          "name": "stdout",
          "text": [
            "{'HOU': 0.5715316197578397, 'TBR': 0.5977024452408284, 'SFG': 0.6388940308099355, 'LAD': 0.6725389967472755, 'TOR': 0.5724298809302231, 'STL': 0.542940236832395, 'CHW': 0.5914092523043768, 'ATL': 0.5626366495434468, 'OAK': 0.5569534857026198, 'BOS': 0.5497311853880696, 'NYM': 0.49048491401198047, 'SDP': 0.47350471292207574, 'MIN': 0.4825738115377296, 'WSN': 0.4095335576522063, 'PHI': 0.5021067015150849, 'MIL': 0.5597800061273638, 'CIN': 0.5169201884296365, 'NYY': 0.5817103008356493, 'CLE': 0.47054394824180834, 'CHC': 0.4052776693465979, 'KCR': 0.4391297683754763, 'MIA': 0.4487259170626682, 'TEX': 0.3776039079558895, 'LAA': 0.46739740933877394, 'SEA': 0.5197282818880076, 'COL': 0.43331646747000807, 'ARI': 0.3671607874208737, 'DET': 0.46769797424324594, 'PIT': 0.33743166398830565, 'BAL': 0.40810490970331814}\n"
          ]
        }
      ]
    },
    {
      "cell_type": "code",
      "source": [
        "def probability(a,  b):\n",
        "  return a + b - (2 * a * b)"
      ],
      "metadata": {
        "id": "lqAEB7pg4Rdn"
      },
      "execution_count": null,
      "outputs": []
    },
    {
      "cell_type": "code",
      "source": [
        "print (probability(team_forecast['SFG'], team_forecast['PIT']))"
      ],
      "metadata": {
        "colab": {
          "base_uri": "https://localhost:8080/"
        },
        "id": "ntlzTYcKIKOT",
        "outputId": "cf07fe2a-7c7e-40a1-e798-9685ccc5648a"
      },
      "execution_count": null,
      "outputs": [
        {
          "output_type": "stream",
          "name": "stdout",
          "text": [
            "0.5451595429414564\n"
          ]
        }
      ]
    }
  ]
}